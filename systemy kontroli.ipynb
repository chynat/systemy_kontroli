{
  "nbformat": 4,
  "nbformat_minor": 0,
  "metadata": {
    "colab": {
      "name": "Untitled5.ipynb",
      "provenance": [],
      "include_colab_link": true
    },
    "kernelspec": {
      "name": "python3",
      "display_name": "Python 3"
    }
  },
  "cells": [
    {
      "cell_type": "markdown",
      "metadata": {
        "id": "view-in-github",
        "colab_type": "text"
      },
      "source": [
        "<a href=\"https://colab.research.google.com/github/xWuWux/systemy_kontroli/blob/Branch1/systemy%20kontroli.ipynb\" target=\"_parent\"><img src=\"https://colab.research.google.com/assets/colab-badge.svg\" alt=\"Open In Colab\"/></a>"
      ]
    },
    {
      "cell_type": "code",
      "metadata": {
        "id": "Q-Q97Q7C-ga0",
        "colab_type": "code",
        "outputId": "1d0d1f24-7012-4272-e122-b70cef281bce",
        "colab": {
          "base_uri": "https://localhost:8080/",
          "height": 50
        }
      },
      "source": [
        "#TODO: add more code\n",
        "from collections import Counter\n",
        "\n",
        "try:\n",
        "      file = open(\"C:\\data.txt\", \"r\")\n",
        "      cont=file.read()\n",
        "      number_of_characters = len(cont)\n",
        "      print('Liczba znaków w tekście:', number_of_characters)\n",
        "\n",
        "      words = data.split(\" \")\n",
        "      number_of_words = len(words)\n",
        "      print('Liczba słów w tekście:',number_of_words)\n",
        "\n",
        "      file = file.replace(\"--\", \" \")\n",
        "      for symbol in \"-'\":\n",
        "          file = file.replace(symbol + \" \", \"\")\n",
        "          file = file.replace(\" \" + symbol, \"\")\n",
        "\n",
        "      for symbol in \".,/'-\":\n",
        "          print (symbol, file.count(symbol))\n",
        "      f.close()\n",
        "except FileNotFoundError:\n",
        "    print('error')\n",
        "    print('Plik nie istnieje')\n",
        "    "
      ],
      "execution_count": 6,
      "outputs": [
        {
          "output_type": "stream",
          "text": [
            "error\n",
            "Plik nie istnieje\n"
          ],
          "name": "stdout"
        }
      ]
    },
    {
      "cell_type": "code",
      "metadata": {
        "id": "DG55TErn-ZFf",
        "colab_type": "code",
        "colab": {}
      },
      "source": [
        ""
      ],
      "execution_count": 0,
      "outputs": []
    }
  ]
}